{
 "cells": [
  {
   "cell_type": "markdown",
   "metadata": {
    "toc": "true"
   },
   "source": [
    " # Table of Contents\n",
    "<div class=\"toc\" style=\"margin-top: 1em;\"><ul class=\"toc-item\" id=\"toc-level0\"><li><span><a href=\"http://localhost:8888/notebooks/importing%20notebooks.ipynb#Importing-Jupyter-Notebooks-as-Modules\" data-toc-modified-id=\"Importing-Jupyter-Notebooks-as-Modules-1\"><span class=\"toc-item-num\">1&nbsp;&nbsp;</span>Importing Jupyter Notebooks as Modules</a></span><ul class=\"toc-item\"><li><span><a href=\"http://localhost:8888/notebooks/importing%20notebooks.ipynb#Notebook-Loader\" data-toc-modified-id=\"Notebook-Loader-1.1\"><span class=\"toc-item-num\">1.1&nbsp;&nbsp;</span>Notebook Loader</a></span></li><li><span><a href=\"http://localhost:8888/notebooks/importing%20notebooks.ipynb#The-Module-Finder\" data-toc-modified-id=\"The-Module-Finder-1.2\"><span class=\"toc-item-num\">1.2&nbsp;&nbsp;</span>The Module Finder</a></span></li><li><span><a href=\"http://localhost:8888/notebooks/importing%20notebooks.ipynb#Register-the-hook\" data-toc-modified-id=\"Register-the-hook-1.3\"><span class=\"toc-item-num\">1.3&nbsp;&nbsp;</span>Register the hook</a></span></li><li><span><a href=\"http://localhost:8888/notebooks/importing%20notebooks.ipynb#Aside:-displaying-notebooks\" data-toc-modified-id=\"Aside:-displaying-notebooks-1.4\"><span class=\"toc-item-num\">1.4&nbsp;&nbsp;</span>Aside: displaying notebooks</a></span></li></ul></li></ul></div>"
   ]
  },
  {
   "cell_type": "markdown",
   "metadata": {},
   "source": [
    "# Importing Jupyter Notebooks as Modules"
   ]
  },
  {
   "cell_type": "markdown",
   "metadata": {},
   "source": [
    "http://nbviewer.jupyter.org/github/jupyter/notebook/blob/master/docs/source/examples/Notebook/Importing%20Notebooks.ipynb"
   ]
  },
  {
   "cell_type": "code",
   "execution_count": 1,
   "metadata": {
    "collapsed": true
   },
   "outputs": [],
   "source": [
    "import io, os, sys, types"
   ]
  },
  {
   "cell_type": "code",
   "execution_count": 2,
   "metadata": {
    "collapsed": true
   },
   "outputs": [],
   "source": [
    "from IPython import get_ipython\n",
    "from nbformat import read\n",
    "from IPython.core.interactiveshell import InteractiveShell"
   ]
  },
  {
   "cell_type": "markdown",
   "metadata": {},
   "source": [
    "Import hooks typically take the form of two objects:\n",
    "\n",
    "1. a Module **Loader**, which takes a module name (e.g. 'IPython.display'), and returns a Module\n",
    "2. a Module **Finder**, which figures out whether a module might exist, and tells Python what **Loader** to use\n",
    "\n"
   ]
  },
  {
   "cell_type": "code",
   "execution_count": 3,
   "metadata": {
    "collapsed": true
   },
   "outputs": [],
   "source": [
    "def find_notebook(fullname, path=None):\n",
    "    \"\"\"find a notebook, given its fully qualified name and an optional path\n",
    "    \n",
    "    This turns \"foo.bar\" into \"foo/bar.ipynb\"\n",
    "    and tries turning \"Foo_Bar\" into \"Foo Bar\" if Foo_Bar\n",
    "    does not exist.\n",
    "    \"\"\"\n",
    "    name = fullname.rsplit('.', 1)[-1]\n",
    "    if not path:\n",
    "        path = ['']\n",
    "    for d in path:\n",
    "        nb_path = os.path.join(d, name + \".ipynb\")\n",
    "        if os.path.isfile(nb_path):\n",
    "            return nb_path\n",
    "        # let import Notebook_Name find \"Notebook Name.ipynb\"\n",
    "        nb_path = nb_path.replace(\"_\", \" \")\n",
    "        if os.path.isfile(nb_path):\n",
    "            return nb_path\n",
    "            \n"
   ]
  },
  {
   "cell_type": "markdown",
   "metadata": {},
   "source": [
    "## Notebook Loader\n",
    "\n",
    "Here we have our Notebook Loader. It's actually quite simple - once we figure out the filename of the module, all it does is:\n",
    "\n",
    "   1. load the notebook document into memory\n",
    "   2. create an empty Module\n",
    "   3. execute every cell in the Module namespace\n",
    "\n",
    "Since IPython cells can have extended syntax, the IPython transform is applied to turn each of these cells into their pure-Python counterparts before executing them. If all of your notebook cells are pure-Python, this step is unnecessary.\n"
   ]
  },
  {
   "cell_type": "code",
   "execution_count": 4,
   "metadata": {
    "collapsed": true
   },
   "outputs": [],
   "source": [
    "class NotebookLoader(object):\n",
    "    \"\"\"Module Loader for Jupyter Notebooks\"\"\"\n",
    "    def __init__(self, path=None):\n",
    "        self.shell = InteractiveShell.instance()\n",
    "        self.path = path\n",
    "    \n",
    "    def load_module(self, fullname):\n",
    "        \"\"\"import a notebook as a module\"\"\"\n",
    "        path = find_notebook(fullname, self.path)\n",
    "        \n",
    "        print (\"importing Jupyter notebook from %s\" % path)\n",
    "                                       \n",
    "        # load the notebook object\n",
    "        with io.open(path, 'r', encoding='utf-8') as f:\n",
    "            nb = read(f, 4)\n",
    "        \n",
    "        \n",
    "        # create the module and add it to sys.modules\n",
    "        # if name in sys.modules:\n",
    "        #    return sys.modules[name]\n",
    "        mod = types.ModuleType(fullname)\n",
    "        mod.__file__ = path\n",
    "        mod.__loader__ = self\n",
    "        mod.__dict__['get_ipython'] = get_ipython\n",
    "        sys.modules[fullname] = mod\n",
    "        \n",
    "        # extra work to ensure that magics that would affect the user_ns\n",
    "        # actually affect the notebook module's ns\n",
    "        save_user_ns = self.shell.user_ns\n",
    "        self.shell.user_ns = mod.__dict__\n",
    "        \n",
    "        try:\n",
    "            \n",
    "              for cell in nb.cells:\n",
    "                    \n",
    "                    if cell.cell_type == 'code':\n",
    "                        # transform the input to executable Python\n",
    "                        code = self.shell.input_transformer_manager.transform_cell(cell.source)\n",
    "                        # run the code in themodule\n",
    "                    exec(code, mod.__dict__)\n",
    "        finally:\n",
    "            self.shell.user_ns = save_user_ns\n",
    "        return mod\n"
   ]
  },
  {
   "cell_type": "markdown",
   "metadata": {},
   "source": [
    "## The Module Finder\n",
    "\n",
    "The finder is a simple object that tells you whether a name can be imported, and returns the appropriate loader. All this one does is check, when you do:\n",
    "\n",
    "```python \n",
    "import mynotebook\n",
    "```\n",
    "\n",
    "it checks whether ```mynotebook.ipynb``` exists. If a notebook is found, then it returns a NotebookLoader.\n",
    "\n",
    "Any extra logic is just for resolving paths within packages.\n"
   ]
  },
  {
   "cell_type": "code",
   "execution_count": 5,
   "metadata": {
    "collapsed": true
   },
   "outputs": [],
   "source": [
    "class NotebookFinder(object):\n",
    "    \"\"\"Module finder that locates Jupyter Notebooks\"\"\"\n",
    "    def __init__(self):\n",
    "        self.loaders = {}\n",
    "    \n",
    "    def find_module(self, fullname, path=None):\n",
    "        nb_path = find_notebook(fullname, path)\n",
    "        if not nb_path:\n",
    "            return\n",
    "        \n",
    "        key = path\n",
    "        if path:\n",
    "            # lists aren't hashable\n",
    "            key = os.path.sep.join(path)\n",
    "        \n",
    "        if key not in self.loaders:\n",
    "            self.loaders[key] = NotebookLoader(path)\n",
    "        return self.loaders[key]\n"
   ]
  },
  {
   "cell_type": "markdown",
   "metadata": {},
   "source": [
    "## Register the hook"
   ]
  },
  {
   "cell_type": "markdown",
   "metadata": {},
   "source": [
    "Now we register the NotebookFinder with ```sys.meta_path```"
   ]
  },
  {
   "cell_type": "code",
   "execution_count": 6,
   "metadata": {
    "collapsed": true
   },
   "outputs": [],
   "source": [
    "sys.meta_path.append(NotebookFinder())"
   ]
  },
  {
   "cell_type": "markdown",
   "metadata": {},
   "source": [
    "After this point, my notebooks should be importable.\n",
    "\n",
    "Let's look at what we have in the CWD:\n"
   ]
  },
  {
   "cell_type": "code",
   "execution_count": 7,
   "metadata": {},
   "outputs": [
    {
     "name": "stdout",
     "output_type": "stream",
     "text": [
      "__init__.py  pascal_voc_parser.ipynb  pascal_voc_parser-pyfile.py  \u001b[0m\u001b[01;34m__pycache__\u001b[0m/\r\n"
     ]
    }
   ],
   "source": [
    "ls data/"
   ]
  },
  {
   "cell_type": "code",
   "execution_count": 8,
   "metadata": {},
   "outputs": [
    {
     "name": "stdout",
     "output_type": "stream",
     "text": [
      "importing Jupyter notebook from /home/abanihi/Documents/Github/keras-faster-rcnn/data/pascal_voc_parser.ipynb\n",
      "Parsing annotation files....\n",
      "Parsing annotation files Finished without error!\n"
     ]
    }
   ],
   "source": [
    "from data import pascal_voc_parser as p"
   ]
  },
  {
   "cell_type": "markdown",
   "metadata": {},
   "source": [
    "\n",
    "## Aside: displaying notebooks\n",
    "\n",
    "Here is some simple code to display the contents of a notebook with syntax highlighting, etc.\n"
   ]
  },
  {
   "cell_type": "code",
   "execution_count": 10,
   "metadata": {},
   "outputs": [
    {
     "data": {
      "text/html": [
       "\n",
       "<style type='text/css'>\n",
       ".hll { background-color: #ffffcc }\n",
       ".c { color: #408080; font-style: italic } /* Comment */\n",
       ".err { border: 1px solid #FF0000 } /* Error */\n",
       ".k { color: #008000; font-weight: bold } /* Keyword */\n",
       ".o { color: #666666 } /* Operator */\n",
       ".ch { color: #408080; font-style: italic } /* Comment.Hashbang */\n",
       ".cm { color: #408080; font-style: italic } /* Comment.Multiline */\n",
       ".cp { color: #BC7A00 } /* Comment.Preproc */\n",
       ".cpf { color: #408080; font-style: italic } /* Comment.PreprocFile */\n",
       ".c1 { color: #408080; font-style: italic } /* Comment.Single */\n",
       ".cs { color: #408080; font-style: italic } /* Comment.Special */\n",
       ".gd { color: #A00000 } /* Generic.Deleted */\n",
       ".ge { font-style: italic } /* Generic.Emph */\n",
       ".gr { color: #FF0000 } /* Generic.Error */\n",
       ".gh { color: #000080; font-weight: bold } /* Generic.Heading */\n",
       ".gi { color: #00A000 } /* Generic.Inserted */\n",
       ".go { color: #888888 } /* Generic.Output */\n",
       ".gp { color: #000080; font-weight: bold } /* Generic.Prompt */\n",
       ".gs { font-weight: bold } /* Generic.Strong */\n",
       ".gu { color: #800080; font-weight: bold } /* Generic.Subheading */\n",
       ".gt { color: #0044DD } /* Generic.Traceback */\n",
       ".kc { color: #008000; font-weight: bold } /* Keyword.Constant */\n",
       ".kd { color: #008000; font-weight: bold } /* Keyword.Declaration */\n",
       ".kn { color: #008000; font-weight: bold } /* Keyword.Namespace */\n",
       ".kp { color: #008000 } /* Keyword.Pseudo */\n",
       ".kr { color: #008000; font-weight: bold } /* Keyword.Reserved */\n",
       ".kt { color: #B00040 } /* Keyword.Type */\n",
       ".m { color: #666666 } /* Literal.Number */\n",
       ".s { color: #BA2121 } /* Literal.String */\n",
       ".na { color: #7D9029 } /* Name.Attribute */\n",
       ".nb { color: #008000 } /* Name.Builtin */\n",
       ".nc { color: #0000FF; font-weight: bold } /* Name.Class */\n",
       ".no { color: #880000 } /* Name.Constant */\n",
       ".nd { color: #AA22FF } /* Name.Decorator */\n",
       ".ni { color: #999999; font-weight: bold } /* Name.Entity */\n",
       ".ne { color: #D2413A; font-weight: bold } /* Name.Exception */\n",
       ".nf { color: #0000FF } /* Name.Function */\n",
       ".nl { color: #A0A000 } /* Name.Label */\n",
       ".nn { color: #0000FF; font-weight: bold } /* Name.Namespace */\n",
       ".nt { color: #008000; font-weight: bold } /* Name.Tag */\n",
       ".nv { color: #19177C } /* Name.Variable */\n",
       ".ow { color: #AA22FF; font-weight: bold } /* Operator.Word */\n",
       ".w { color: #bbbbbb } /* Text.Whitespace */\n",
       ".mb { color: #666666 } /* Literal.Number.Bin */\n",
       ".mf { color: #666666 } /* Literal.Number.Float */\n",
       ".mh { color: #666666 } /* Literal.Number.Hex */\n",
       ".mi { color: #666666 } /* Literal.Number.Integer */\n",
       ".mo { color: #666666 } /* Literal.Number.Oct */\n",
       ".sa { color: #BA2121 } /* Literal.String.Affix */\n",
       ".sb { color: #BA2121 } /* Literal.String.Backtick */\n",
       ".sc { color: #BA2121 } /* Literal.String.Char */\n",
       ".dl { color: #BA2121 } /* Literal.String.Delimiter */\n",
       ".sd { color: #BA2121; font-style: italic } /* Literal.String.Doc */\n",
       ".s2 { color: #BA2121 } /* Literal.String.Double */\n",
       ".se { color: #BB6622; font-weight: bold } /* Literal.String.Escape */\n",
       ".sh { color: #BA2121 } /* Literal.String.Heredoc */\n",
       ".si { color: #BB6688; font-weight: bold } /* Literal.String.Interpol */\n",
       ".sx { color: #008000 } /* Literal.String.Other */\n",
       ".sr { color: #BB6688 } /* Literal.String.Regex */\n",
       ".s1 { color: #BA2121 } /* Literal.String.Single */\n",
       ".ss { color: #19177C } /* Literal.String.Symbol */\n",
       ".bp { color: #008000 } /* Name.Builtin.Pseudo */\n",
       ".fm { color: #0000FF } /* Name.Function.Magic */\n",
       ".vc { color: #19177C } /* Name.Variable.Class */\n",
       ".vg { color: #19177C } /* Name.Variable.Global */\n",
       ".vi { color: #19177C } /* Name.Variable.Instance */\n",
       ".vm { color: #19177C } /* Name.Variable.Magic */\n",
       ".il { color: #666666 } /* Literal.Number.Integer.Long */\n",
       "</style>\n"
      ],
      "text/plain": [
       "<IPython.core.display.HTML object>"
      ]
     },
     "metadata": {},
     "output_type": "display_data"
    }
   ],
   "source": [
    "\n",
    "\n",
    "from pygments import highlight\n",
    "from pygments.lexers import PythonLexer\n",
    "from pygments.formatters import HtmlFormatter\n",
    "\n",
    "from IPython.display import display, HTML\n",
    "\n",
    "formatter = HtmlFormatter()\n",
    "lexer = PythonLexer()\n",
    "\n",
    "# publish the CSS for pygments highlighting\n",
    "display(HTML(\"\"\"\n",
    "<style type='text/css'>\n",
    "%s\n",
    "</style>\n",
    "\"\"\" % formatter.get_style_defs()\n",
    "))\n",
    "\n"
   ]
  },
  {
   "cell_type": "code",
   "execution_count": 11,
   "metadata": {
    "collapsed": true
   },
   "outputs": [],
   "source": [
    "def show_notebook(fname):\n",
    "    \"\"\"display a short summary of the cells of a notebook\"\"\"\n",
    "    with io.open(fname, 'r', encoding='utf-8') as f:\n",
    "        nb = read(f, 4)\n",
    "    html = []\n",
    "    for cell in nb.cells:\n",
    "        html.append(\"<h4>%s cell</h4>\" % cell.cell_type)\n",
    "        if cell.cell_type == 'code':\n",
    "            html.append(highlight(cell.source, lexer, formatter))\n",
    "        else:\n",
    "            html.append(\"<pre>%s</pre>\" % cell.source)\n",
    "    display(HTML('\\n'.join(html)))"
   ]
  },
  {
   "cell_type": "code",
   "execution_count": 12,
   "metadata": {},
   "outputs": [
    {
     "data": {
      "text/html": [
       "<h4>markdown cell</h4>\n",
       "<pre> # Table of Contents\n",
       "<div class=\"toc\" style=\"margin-top: 1em;\"><ul class=\"toc-item\" id=\"toc-level0\"></ul></div></pre>\n",
       "<h4>code cell</h4>\n",
       "<div class=\"highlight\"><pre><span></span><span class=\"c1\"># %load ../pascal_voc_parser.py</span>\n",
       "<span class=\"kn\">import</span> <span class=\"nn\">os</span>\n",
       "<span class=\"kn\">import</span> <span class=\"nn\">cv2</span>\n",
       "<span class=\"kn\">import</span> <span class=\"nn\">xml.etree.ElementTree</span> <span class=\"kn\">as</span> <span class=\"nn\">ET</span>\n",
       "<span class=\"kn\">import</span> <span class=\"nn\">numpy</span> <span class=\"kn\">as</span> <span class=\"nn\">np</span>\n",
       "<span class=\"k\">def</span> <span class=\"nf\">get_data</span><span class=\"p\">(</span><span class=\"n\">input_path</span><span class=\"p\">,</span> <span class=\"n\">visualise</span><span class=\"o\">=</span><span class=\"bp\">False</span><span class=\"p\">):</span>\n",
       "    <span class=\"sd\">&quot;&quot;&quot;Load data from an input file.</span>\n",
       "<span class=\"sd\">      https://github.com/yhenon/keras-frcnn/blob/master/keras_frcnn/pascal_voc_parser.py#L19</span>\n",
       "<span class=\"sd\">      </span>\n",
       "<span class=\"sd\">    &quot;&quot;&quot;</span>\n",
       "    <span class=\"n\">all_imgs</span> <span class=\"o\">=</span> <span class=\"p\">[]</span>\n",
       "\n",
       "    <span class=\"n\">classes_count</span> <span class=\"o\">=</span> <span class=\"p\">{}</span>\n",
       "\n",
       "    <span class=\"n\">class_mapping</span> <span class=\"o\">=</span> <span class=\"p\">{}</span>\n",
       "\n",
       "    <span class=\"n\">data_paths</span> <span class=\"o\">=</span> <span class=\"p\">[</span><span class=\"n\">os</span><span class=\"o\">.</span><span class=\"n\">path</span><span class=\"o\">.</span><span class=\"n\">join</span><span class=\"p\">(</span><span class=\"n\">input_path</span><span class=\"p\">,</span><span class=\"n\">s</span><span class=\"p\">)</span> <span class=\"k\">for</span> <span class=\"n\">s</span> <span class=\"ow\">in</span> <span class=\"p\">[</span><span class=\"s1\">&#39;VOC2012&#39;</span><span class=\"p\">]]</span>\n",
       "\n",
       "\n",
       "    <span class=\"k\">print</span><span class=\"p\">(</span><span class=\"s1\">&#39;Parsing annotation files....&#39;</span><span class=\"p\">)</span>\n",
       "\n",
       "    <span class=\"k\">for</span> <span class=\"n\">data_path</span> <span class=\"ow\">in</span> <span class=\"n\">data_paths</span><span class=\"p\">:</span>\n",
       "\n",
       "        <span class=\"n\">annot_path</span> <span class=\"o\">=</span> <span class=\"n\">os</span><span class=\"o\">.</span><span class=\"n\">path</span><span class=\"o\">.</span><span class=\"n\">join</span><span class=\"p\">(</span><span class=\"n\">data_path</span><span class=\"p\">,</span> <span class=\"s1\">&#39;Annotations&#39;</span><span class=\"p\">)</span>\n",
       "        <span class=\"n\">imgs_path</span> <span class=\"o\">=</span> <span class=\"n\">os</span><span class=\"o\">.</span><span class=\"n\">path</span><span class=\"o\">.</span><span class=\"n\">join</span><span class=\"p\">(</span><span class=\"n\">data_path</span><span class=\"p\">,</span> <span class=\"s1\">&#39;JPEGImages&#39;</span><span class=\"p\">)</span>\n",
       "        <span class=\"n\">imgsets_path_trainval</span> <span class=\"o\">=</span> <span class=\"n\">os</span><span class=\"o\">.</span><span class=\"n\">path</span><span class=\"o\">.</span><span class=\"n\">join</span><span class=\"p\">(</span><span class=\"n\">data_path</span><span class=\"p\">,</span> <span class=\"s1\">&#39;ImageSets&#39;</span><span class=\"p\">,</span><span class=\"s1\">&#39;Main&#39;</span><span class=\"p\">,</span><span class=\"s1\">&#39;trainval.txt&#39;</span><span class=\"p\">)</span>\n",
       "        <span class=\"n\">imgsets_path_test</span> <span class=\"o\">=</span> <span class=\"n\">os</span><span class=\"o\">.</span><span class=\"n\">path</span><span class=\"o\">.</span><span class=\"n\">join</span><span class=\"p\">(</span><span class=\"n\">data_path</span><span class=\"p\">,</span> <span class=\"s1\">&#39;ImageSets&#39;</span><span class=\"p\">,</span><span class=\"s1\">&#39;Main&#39;</span><span class=\"p\">,</span><span class=\"s1\">&#39;test.txt&#39;</span><span class=\"p\">)</span>\n",
       "\n",
       "        <span class=\"n\">trainval_files</span> <span class=\"o\">=</span> <span class=\"p\">[]</span>\n",
       "        <span class=\"n\">test_files</span> <span class=\"o\">=</span> <span class=\"p\">[]</span>\n",
       "        <span class=\"k\">try</span><span class=\"p\">:</span>\n",
       "            <span class=\"k\">with</span> <span class=\"nb\">open</span><span class=\"p\">(</span><span class=\"n\">imgsets_path_trainval</span><span class=\"p\">)</span> <span class=\"k\">as</span> <span class=\"n\">f</span><span class=\"p\">:</span>\n",
       "                <span class=\"k\">for</span> <span class=\"n\">line</span> <span class=\"ow\">in</span> <span class=\"n\">f</span><span class=\"p\">:</span>\n",
       "                    <span class=\"n\">trainval_files</span><span class=\"o\">.</span><span class=\"n\">append</span><span class=\"p\">(</span><span class=\"n\">line</span><span class=\"o\">.</span><span class=\"n\">strip</span><span class=\"p\">()</span> <span class=\"o\">+</span> <span class=\"s1\">&#39;.jpg&#39;</span><span class=\"p\">)</span>\n",
       "        <span class=\"k\">except</span> <span class=\"ne\">Exception</span> <span class=\"k\">as</span> <span class=\"n\">e</span><span class=\"p\">:</span>\n",
       "            <span class=\"k\">print</span><span class=\"p\">(</span><span class=\"n\">e</span><span class=\"p\">)</span>\n",
       "\n",
       "        <span class=\"k\">try</span><span class=\"p\">:</span>\n",
       "            <span class=\"k\">with</span> <span class=\"nb\">open</span><span class=\"p\">(</span><span class=\"n\">imgsets_path_test</span><span class=\"p\">)</span> <span class=\"k\">as</span> <span class=\"n\">f</span><span class=\"p\">:</span>\n",
       "                <span class=\"k\">for</span> <span class=\"n\">line</span> <span class=\"ow\">in</span> <span class=\"n\">f</span><span class=\"p\">:</span>\n",
       "                    <span class=\"n\">test_files</span><span class=\"o\">.</span><span class=\"n\">append</span><span class=\"p\">(</span><span class=\"n\">line</span><span class=\"o\">.</span><span class=\"n\">strip</span><span class=\"p\">()</span> <span class=\"o\">+</span> <span class=\"s1\">&#39;.jpg&#39;</span><span class=\"p\">)</span>\n",
       "        <span class=\"k\">except</span> <span class=\"ne\">Exception</span> <span class=\"k\">as</span> <span class=\"n\">e</span><span class=\"p\">:</span>\n",
       "            <span class=\"k\">if</span> <span class=\"n\">data_path</span><span class=\"p\">[</span><span class=\"o\">-</span><span class=\"mi\">7</span><span class=\"p\">:]</span> <span class=\"o\">==</span> <span class=\"s1\">&#39;VOC2012&#39;</span><span class=\"p\">:</span>\n",
       "                <span class=\"c1\"># this is expected, most pascal voc distibutions dont have the test.txt file</span>\n",
       "                <span class=\"k\">pass</span>\n",
       "            <span class=\"k\">else</span><span class=\"p\">:</span>\n",
       "                <span class=\"k\">print</span><span class=\"p\">(</span><span class=\"n\">e</span><span class=\"p\">)</span>\n",
       "\n",
       "        <span class=\"n\">annots</span> <span class=\"o\">=</span> <span class=\"p\">[</span><span class=\"n\">os</span><span class=\"o\">.</span><span class=\"n\">path</span><span class=\"o\">.</span><span class=\"n\">join</span><span class=\"p\">(</span><span class=\"n\">annot_path</span><span class=\"p\">,</span> <span class=\"n\">s</span><span class=\"p\">)</span> <span class=\"k\">for</span> <span class=\"n\">s</span> <span class=\"ow\">in</span> <span class=\"n\">os</span><span class=\"o\">.</span><span class=\"n\">listdir</span><span class=\"p\">(</span><span class=\"n\">annot_path</span><span class=\"p\">)]</span>\n",
       "        <span class=\"n\">idx</span> <span class=\"o\">=</span> <span class=\"mi\">0</span>\n",
       "        <span class=\"k\">for</span> <span class=\"n\">annot</span> <span class=\"ow\">in</span> <span class=\"n\">annots</span><span class=\"p\">:</span>\n",
       "            <span class=\"k\">try</span><span class=\"p\">:</span>\n",
       "                <span class=\"n\">idx</span> <span class=\"o\">+=</span> <span class=\"mi\">1</span>\n",
       "\n",
       "                <span class=\"n\">et</span> <span class=\"o\">=</span> <span class=\"n\">ET</span><span class=\"o\">.</span><span class=\"n\">parse</span><span class=\"p\">(</span><span class=\"n\">annot</span><span class=\"p\">)</span>\n",
       "                <span class=\"n\">element</span> <span class=\"o\">=</span> <span class=\"n\">et</span><span class=\"o\">.</span><span class=\"n\">getroot</span><span class=\"p\">()</span>\n",
       "\n",
       "                <span class=\"n\">element_objs</span> <span class=\"o\">=</span> <span class=\"n\">element</span><span class=\"o\">.</span><span class=\"n\">findall</span><span class=\"p\">(</span><span class=\"s1\">&#39;object&#39;</span><span class=\"p\">)</span>\n",
       "                <span class=\"n\">element_filename</span> <span class=\"o\">=</span> <span class=\"n\">element</span><span class=\"o\">.</span><span class=\"n\">find</span><span class=\"p\">(</span><span class=\"s1\">&#39;filename&#39;</span><span class=\"p\">)</span><span class=\"o\">.</span><span class=\"n\">text</span>\n",
       "                <span class=\"n\">element_width</span> <span class=\"o\">=</span> <span class=\"nb\">int</span><span class=\"p\">(</span><span class=\"n\">element</span><span class=\"o\">.</span><span class=\"n\">find</span><span class=\"p\">(</span><span class=\"s1\">&#39;size&#39;</span><span class=\"p\">)</span><span class=\"o\">.</span><span class=\"n\">find</span><span class=\"p\">(</span><span class=\"s1\">&#39;width&#39;</span><span class=\"p\">)</span><span class=\"o\">.</span><span class=\"n\">text</span><span class=\"p\">)</span>\n",
       "                <span class=\"n\">element_height</span> <span class=\"o\">=</span> <span class=\"nb\">int</span><span class=\"p\">(</span><span class=\"n\">element</span><span class=\"o\">.</span><span class=\"n\">find</span><span class=\"p\">(</span><span class=\"s1\">&#39;size&#39;</span><span class=\"p\">)</span><span class=\"o\">.</span><span class=\"n\">find</span><span class=\"p\">(</span><span class=\"s1\">&#39;height&#39;</span><span class=\"p\">)</span><span class=\"o\">.</span><span class=\"n\">text</span><span class=\"p\">)</span>\n",
       "\n",
       "                <span class=\"k\">if</span> <span class=\"nb\">len</span><span class=\"p\">(</span><span class=\"n\">element_objs</span><span class=\"p\">)</span> <span class=\"o\">&gt;</span> <span class=\"mi\">0</span><span class=\"p\">:</span>\n",
       "                    <span class=\"n\">annotation_data</span> <span class=\"o\">=</span> <span class=\"p\">{</span><span class=\"s1\">&#39;filepath&#39;</span><span class=\"p\">:</span> <span class=\"n\">os</span><span class=\"o\">.</span><span class=\"n\">path</span><span class=\"o\">.</span><span class=\"n\">join</span><span class=\"p\">(</span><span class=\"n\">imgs_path</span><span class=\"p\">,</span> <span class=\"n\">element_filename</span><span class=\"p\">),</span> <span class=\"s1\">&#39;width&#39;</span><span class=\"p\">:</span> <span class=\"n\">element_width</span><span class=\"p\">,</span>\n",
       "                                       <span class=\"s1\">&#39;height&#39;</span><span class=\"p\">:</span> <span class=\"n\">element_height</span><span class=\"p\">,</span> <span class=\"s1\">&#39;bboxes&#39;</span><span class=\"p\">:</span> <span class=\"p\">[]}</span>\n",
       "\n",
       "                    <span class=\"k\">if</span> <span class=\"n\">element_filename</span> <span class=\"ow\">in</span> <span class=\"n\">trainval_files</span><span class=\"p\">:</span>\n",
       "                        <span class=\"n\">annotation_data</span><span class=\"p\">[</span><span class=\"s1\">&#39;imageset&#39;</span><span class=\"p\">]</span> <span class=\"o\">=</span> <span class=\"s1\">&#39;trainval&#39;</span>\n",
       "                    <span class=\"k\">elif</span> <span class=\"n\">element_filename</span> <span class=\"ow\">in</span> <span class=\"n\">test_files</span><span class=\"p\">:</span>\n",
       "                        <span class=\"n\">annotation_data</span><span class=\"p\">[</span><span class=\"s1\">&#39;imageset&#39;</span><span class=\"p\">]</span> <span class=\"o\">=</span> <span class=\"s1\">&#39;test&#39;</span>\n",
       "                    <span class=\"k\">else</span><span class=\"p\">:</span>\n",
       "                        <span class=\"n\">annotation_data</span><span class=\"p\">[</span><span class=\"s1\">&#39;imageset&#39;</span><span class=\"p\">]</span> <span class=\"o\">=</span> <span class=\"s1\">&#39;trainval&#39;</span>\n",
       "\n",
       "                <span class=\"k\">for</span> <span class=\"n\">element_obj</span> <span class=\"ow\">in</span> <span class=\"n\">element_objs</span><span class=\"p\">:</span>\n",
       "                    <span class=\"n\">class_name</span> <span class=\"o\">=</span> <span class=\"n\">element_obj</span><span class=\"o\">.</span><span class=\"n\">find</span><span class=\"p\">(</span><span class=\"s1\">&#39;name&#39;</span><span class=\"p\">)</span><span class=\"o\">.</span><span class=\"n\">text</span>\n",
       "                    <span class=\"k\">if</span> <span class=\"n\">class_name</span> <span class=\"ow\">not</span> <span class=\"ow\">in</span> <span class=\"n\">classes_count</span><span class=\"p\">:</span>\n",
       "                        <span class=\"n\">classes_count</span><span class=\"p\">[</span><span class=\"n\">class_name</span><span class=\"p\">]</span> <span class=\"o\">=</span> <span class=\"mi\">1</span>\n",
       "                    <span class=\"k\">else</span><span class=\"p\">:</span>\n",
       "                        <span class=\"n\">classes_count</span><span class=\"p\">[</span><span class=\"n\">class_name</span><span class=\"p\">]</span> <span class=\"o\">+=</span> <span class=\"mi\">1</span>\n",
       "\n",
       "                    <span class=\"k\">if</span> <span class=\"n\">class_name</span> <span class=\"ow\">not</span> <span class=\"ow\">in</span> <span class=\"n\">class_mapping</span><span class=\"p\">:</span>\n",
       "                        <span class=\"n\">class_mapping</span><span class=\"p\">[</span><span class=\"n\">class_name</span><span class=\"p\">]</span> <span class=\"o\">=</span> <span class=\"nb\">len</span><span class=\"p\">(</span><span class=\"n\">class_mapping</span><span class=\"p\">)</span>\n",
       "\n",
       "                    <span class=\"n\">obj_bbox</span> <span class=\"o\">=</span> <span class=\"n\">element_obj</span><span class=\"o\">.</span><span class=\"n\">find</span><span class=\"p\">(</span><span class=\"s1\">&#39;bndbox&#39;</span><span class=\"p\">)</span>\n",
       "                    <span class=\"n\">x1</span> <span class=\"o\">=</span> <span class=\"nb\">int</span><span class=\"p\">(</span><span class=\"nb\">round</span><span class=\"p\">(</span><span class=\"nb\">float</span><span class=\"p\">(</span><span class=\"n\">obj_bbox</span><span class=\"o\">.</span><span class=\"n\">find</span><span class=\"p\">(</span><span class=\"s1\">&#39;xmin&#39;</span><span class=\"p\">)</span><span class=\"o\">.</span><span class=\"n\">text</span><span class=\"p\">)))</span>\n",
       "                    <span class=\"n\">y1</span> <span class=\"o\">=</span> <span class=\"nb\">int</span><span class=\"p\">(</span><span class=\"nb\">round</span><span class=\"p\">(</span><span class=\"nb\">float</span><span class=\"p\">(</span><span class=\"n\">obj_bbox</span><span class=\"o\">.</span><span class=\"n\">find</span><span class=\"p\">(</span><span class=\"s1\">&#39;ymin&#39;</span><span class=\"p\">)</span><span class=\"o\">.</span><span class=\"n\">text</span><span class=\"p\">)))</span>\n",
       "                    <span class=\"n\">x2</span> <span class=\"o\">=</span> <span class=\"nb\">int</span><span class=\"p\">(</span><span class=\"nb\">round</span><span class=\"p\">(</span><span class=\"nb\">float</span><span class=\"p\">(</span><span class=\"n\">obj_bbox</span><span class=\"o\">.</span><span class=\"n\">find</span><span class=\"p\">(</span><span class=\"s1\">&#39;xmax&#39;</span><span class=\"p\">)</span><span class=\"o\">.</span><span class=\"n\">text</span><span class=\"p\">)))</span>\n",
       "                    <span class=\"n\">y2</span> <span class=\"o\">=</span> <span class=\"nb\">int</span><span class=\"p\">(</span><span class=\"nb\">round</span><span class=\"p\">(</span><span class=\"nb\">float</span><span class=\"p\">(</span><span class=\"n\">obj_bbox</span><span class=\"o\">.</span><span class=\"n\">find</span><span class=\"p\">(</span><span class=\"s1\">&#39;ymax&#39;</span><span class=\"p\">)</span><span class=\"o\">.</span><span class=\"n\">text</span><span class=\"p\">)))</span>\n",
       "                    <span class=\"n\">difficulty</span> <span class=\"o\">=</span> <span class=\"nb\">int</span><span class=\"p\">(</span><span class=\"n\">element_obj</span><span class=\"o\">.</span><span class=\"n\">find</span><span class=\"p\">(</span><span class=\"s1\">&#39;difficult&#39;</span><span class=\"p\">)</span><span class=\"o\">.</span><span class=\"n\">text</span><span class=\"p\">)</span> <span class=\"o\">==</span> <span class=\"mi\">1</span>\n",
       "                    <span class=\"n\">annotation_data</span><span class=\"p\">[</span><span class=\"s1\">&#39;bboxes&#39;</span><span class=\"p\">]</span><span class=\"o\">.</span><span class=\"n\">append</span><span class=\"p\">(</span>\n",
       "                        <span class=\"p\">{</span><span class=\"s1\">&#39;class&#39;</span><span class=\"p\">:</span> <span class=\"n\">class_name</span><span class=\"p\">,</span> <span class=\"s1\">&#39;x1&#39;</span><span class=\"p\">:</span> <span class=\"n\">x1</span><span class=\"p\">,</span> <span class=\"s1\">&#39;x2&#39;</span><span class=\"p\">:</span> <span class=\"n\">x2</span><span class=\"p\">,</span> <span class=\"s1\">&#39;y1&#39;</span><span class=\"p\">:</span> <span class=\"n\">y1</span><span class=\"p\">,</span> <span class=\"s1\">&#39;y2&#39;</span><span class=\"p\">:</span> <span class=\"n\">y2</span><span class=\"p\">,</span> <span class=\"s1\">&#39;difficult&#39;</span><span class=\"p\">:</span> <span class=\"n\">difficulty</span><span class=\"p\">})</span>\n",
       "                <span class=\"n\">all_imgs</span><span class=\"o\">.</span><span class=\"n\">append</span><span class=\"p\">(</span><span class=\"n\">annotation_data</span><span class=\"p\">)</span>\n",
       "\n",
       "                <span class=\"k\">if</span> <span class=\"n\">visualise</span><span class=\"p\">:</span>\n",
       "                    <span class=\"n\">img</span> <span class=\"o\">=</span> <span class=\"n\">cv2</span><span class=\"o\">.</span><span class=\"n\">imread</span><span class=\"p\">(</span><span class=\"n\">annotation_data</span><span class=\"p\">[</span><span class=\"s1\">&#39;filepath&#39;</span><span class=\"p\">])</span>\n",
       "                    <span class=\"k\">for</span> <span class=\"n\">bbox</span> <span class=\"ow\">in</span> <span class=\"n\">annotation_data</span><span class=\"p\">[</span><span class=\"s1\">&#39;bboxes&#39;</span><span class=\"p\">]:</span>\n",
       "                        <span class=\"n\">cv2</span><span class=\"o\">.</span><span class=\"n\">rectangle</span><span class=\"p\">(</span><span class=\"n\">img</span><span class=\"p\">,</span> <span class=\"p\">(</span><span class=\"n\">bbox</span><span class=\"p\">[</span><span class=\"s1\">&#39;x1&#39;</span><span class=\"p\">],</span> <span class=\"n\">bbox</span><span class=\"p\">[</span><span class=\"s1\">&#39;y1&#39;</span><span class=\"p\">]),</span> <span class=\"p\">(</span><span class=\"n\">bbox</span><span class=\"p\">[</span>\n",
       "                                        <span class=\"s1\">&#39;x2&#39;</span><span class=\"p\">],</span> <span class=\"n\">bbox</span><span class=\"p\">[</span><span class=\"s1\">&#39;y2&#39;</span><span class=\"p\">]),</span> <span class=\"p\">(</span><span class=\"mi\">0</span><span class=\"p\">,</span> <span class=\"mi\">0</span><span class=\"p\">,</span> <span class=\"mi\">255</span><span class=\"p\">))</span>\n",
       "                    <span class=\"n\">cv2</span><span class=\"o\">.</span><span class=\"n\">imshow</span><span class=\"p\">(</span><span class=\"s1\">&#39;img&#39;</span><span class=\"p\">,</span> <span class=\"n\">img</span><span class=\"p\">)</span>\n",
       "                    <span class=\"n\">cv2</span><span class=\"o\">.</span><span class=\"n\">waitKey</span><span class=\"p\">(</span><span class=\"mi\">0</span><span class=\"p\">)</span>\n",
       "\n",
       "            <span class=\"k\">except</span> <span class=\"ne\">Exception</span> <span class=\"k\">as</span> <span class=\"n\">e</span><span class=\"p\">:</span>\n",
       "                <span class=\"k\">print</span><span class=\"p\">(</span><span class=\"n\">e</span><span class=\"p\">)</span>\n",
       "                <span class=\"k\">continue</span>\n",
       "                \n",
       "    <span class=\"k\">print</span><span class=\"p\">(</span><span class=\"s2\">&quot;Parsing annotation files Finished without error!&quot;</span><span class=\"p\">)</span>\n",
       "    <span class=\"k\">return</span> <span class=\"n\">all_imgs</span><span class=\"p\">,</span> <span class=\"n\">classes_count</span><span class=\"p\">,</span> <span class=\"n\">class_mapping</span>\n",
       "</pre></div>\n",
       "\n",
       "<h4>code cell</h4>\n",
       "<div class=\"highlight\"><pre><span></span><span class=\"n\">all_imgs</span><span class=\"p\">,</span> <span class=\"n\">classes_count</span><span class=\"p\">,</span> <span class=\"n\">class_mapping</span> <span class=\"o\">=</span> <span class=\"n\">get_data</span><span class=\"p\">(</span><span class=\"s1\">&#39;/home/abanihi/Documents/deep-data/VOCdevkit/&#39;</span><span class=\"p\">)</span>\n",
       "</pre></div>\n",
       "\n",
       "<h4>code cell</h4>\n",
       "<div class=\"highlight\"><pre><span></span><span class=\"n\">classes_count</span>\n",
       "</pre></div>\n",
       "\n",
       "<h4>code cell</h4>\n",
       "<div class=\"highlight\"><pre><span></span><span class=\"n\">class_mapping</span>\n",
       "</pre></div>\n",
       "\n",
       "<h4>code cell</h4>\n",
       "<div class=\"highlight\"><pre><span></span><span class=\"nb\">type</span><span class=\"p\">(</span><span class=\"n\">all_imgs</span><span class=\"p\">)</span>\n",
       "</pre></div>\n",
       "\n",
       "<h4>code cell</h4>\n",
       "<div class=\"highlight\"><pre><span></span><span class=\"n\">all_imgs</span><span class=\"p\">[</span><span class=\"mi\">0</span><span class=\"p\">]</span>\n",
       "</pre></div>\n",
       "\n",
       "<h4>code cell</h4>\n",
       "<div class=\"highlight\"><pre><span></span><span class=\"k\">if</span> <span class=\"s1\">&#39;bg&#39;</span> <span class=\"ow\">not</span> <span class=\"ow\">in</span> <span class=\"n\">classes_count</span><span class=\"p\">:</span>\n",
       "    <span class=\"n\">classes_count</span><span class=\"p\">[</span><span class=\"s1\">&#39;bg&#39;</span><span class=\"p\">]</span> <span class=\"o\">=</span> <span class=\"mi\">0</span>\n",
       "    <span class=\"n\">class_mapping</span><span class=\"p\">[</span><span class=\"s1\">&#39;bg&#39;</span><span class=\"p\">]</span> <span class=\"o\">=</span> <span class=\"nb\">len</span><span class=\"p\">(</span><span class=\"n\">class_mapping</span><span class=\"p\">)</span>\n",
       "</pre></div>\n",
       "\n",
       "<h4>code cell</h4>\n",
       "<div class=\"highlight\"><pre><span></span><span class=\"n\">classes_count</span>\n",
       "</pre></div>\n",
       "\n",
       "<h4>code cell</h4>\n",
       "<div class=\"highlight\"><pre><span></span>\n",
       "</pre></div>\n"
      ],
      "text/plain": [
       "<IPython.core.display.HTML object>"
      ]
     },
     "metadata": {},
     "output_type": "display_data"
    }
   ],
   "source": [
    "show_notebook(\"data/pascal_voc_parser.ipynb\")"
   ]
  }
 ],
 "metadata": {
  "kernelspec": {
   "display_name": "Python 3",
   "language": "python",
   "name": "python3"
  },
  "language_info": {
   "codemirror_mode": {
    "name": "ipython",
    "version": 3
   },
   "file_extension": ".py",
   "mimetype": "text/x-python",
   "name": "python",
   "nbconvert_exporter": "python",
   "pygments_lexer": "ipython3",
   "version": "3.6.2"
  },
  "toc": {
   "nav_menu": {},
   "number_sections": true,
   "sideBar": true,
   "skip_h1_title": false,
   "toc_cell": true,
   "toc_position": {},
   "toc_section_display": "block",
   "toc_window_display": true
  }
 },
 "nbformat": 4,
 "nbformat_minor": 2
}
